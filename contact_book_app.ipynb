{
 "cells": [
  {
   "cell_type": "code",
   "execution_count": 1,
   "id": "ccfa80ae-8ad6-4546-a009-e867976191f7",
   "metadata": {},
   "outputs": [
    {
     "name": "stdout",
     "output_type": "stream",
     "text": [
      "welcome to contact book app \n",
      " 1. create a contact \n",
      " 2. view\n",
      " 3. update\n",
      " 4. delete\n",
      " 5. count\n",
      " 6. exits\n"
     ]
    },
    {
     "name": "stdin",
     "output_type": "stream",
     "text": [
      "enter the choice : 1\n",
      "enter the name : KASHISH\n",
      "enter the number: 9870515030\n",
      "enter the email id : KASHISHGMAIL.COM\n"
     ]
    },
    {
     "name": "stdout",
     "output_type": "stream",
     "text": [
      "the name KASHISH created succesfully!!\n"
     ]
    },
    {
     "name": "stdin",
     "output_type": "stream",
     "text": [
      "enter the choice : 1\n",
      "enter the name : PAPA\n",
      "enter the number: 9811443230\n",
      "enter the email id : RAJENDRA@GMAIL.COM\n"
     ]
    },
    {
     "name": "stdout",
     "output_type": "stream",
     "text": [
      "the name PAPA created succesfully!!\n"
     ]
    },
    {
     "name": "stdin",
     "output_type": "stream",
     "text": [
      "enter the choice : 2\n",
      "enter the name: PAPA\n"
     ]
    },
    {
     "name": "stdout",
     "output_type": "stream",
     "text": [
      " name :PAPA , mobile_number:9811443230 , email_id:RAJENDRA@GMAIL.COM\n"
     ]
    },
    {
     "name": "stdin",
     "output_type": "stream",
     "text": [
      "enter the choice : 3\n",
      "enter the name to update in contact book : PAPA\n",
      "enter the update number: 9873882234\n",
      "enter the update email id : RAJENDRA@GMAIL.COM\n"
     ]
    },
    {
     "name": "stdout",
     "output_type": "stream",
     "text": [
      "name PAPA has been updated successfully !!\n"
     ]
    },
    {
     "name": "stdin",
     "output_type": "stream",
     "text": [
      "enter the choice : 5\n"
     ]
    },
    {
     "name": "stdout",
     "output_type": "stream",
     "text": [
      "the total number of contacts in contact book is :2\n"
     ]
    },
    {
     "name": "stdin",
     "output_type": "stream",
     "text": [
      "enter the choice : 4\n",
      "enter the name you want to delete PAPA\n"
     ]
    },
    {
     "name": "stdout",
     "output_type": "stream",
     "text": [
      "the name PAPA deleted succesfully !!\n"
     ]
    },
    {
     "name": "stdin",
     "output_type": "stream",
     "text": [
      "enter the choice : 5\n"
     ]
    },
    {
     "name": "stdout",
     "output_type": "stream",
     "text": [
      "the total number of contacts in contact book is :1\n"
     ]
    },
    {
     "name": "stdin",
     "output_type": "stream",
     "text": [
      "enter the choice : 6\n"
     ]
    },
    {
     "name": "stdout",
     "output_type": "stream",
     "text": [
      "thank you... now closing the app...!!\n"
     ]
    }
   ],
   "source": [
    "contacts  = {} \n",
    "print(\"welcome to contact book app \")\n",
    "print(\" 1. create a contact \")\n",
    "print(\" 2. view\")\n",
    "print(\" 3. update\")\n",
    "print(\" 4. delete\")\n",
    "print(\" 5. count\")\n",
    "print(\" 6. exits\")\n",
    "\n",
    "while True:\n",
    "    choice = int(input(\"enter the choice :\"))\n",
    "    if(choice == 1):\n",
    "        name = input(\"enter the name :\")\n",
    "        if name in contacts: \n",
    "            print(f\"contact name {name } is already exits!!\")\n",
    "        else:\n",
    "            mobile_number = int(input(\"enter the number:\"))\n",
    "            email_id = input(\"enter the email id :\")\n",
    "            contacts[name] ={ 'Mobile_number': mobile_number , 'Emial_id' : email_id}\n",
    "            print(f\"the name {name} created succesfully!!\")\n",
    "\n",
    "\n",
    "    elif(choice == 2 ):\n",
    "        name = input(\"enter the name:\")\n",
    "        if name in contacts :\n",
    "            contact = contacts[name]\n",
    "            print(f\" name :{name} , mobile_number:{mobile_number} , email_id:{email_id}\")\n",
    "        else:\n",
    "            print(f\"name {name} nor found!!\")\n",
    "\n",
    "\n",
    "    elif(choice == 3 ):\n",
    "        name = input(\"enter the name to update in contact book :\")\n",
    "        if name in contacts:\n",
    "            mobile_number = int(input(\"enter the update number:\"))\n",
    "            email_id = input(\"enter the update email id :\")\n",
    "            contacts[name] = {'Mobile_number': mobile_number , 'Emial_id' : email_id}\n",
    "            print(f\"name {name } has been updated successfully !!\")\n",
    "        else:\n",
    "            print(f\"name {name} nor founde !!\")\n",
    " \n",
    "    elif(choice== 4):        \n",
    "        name = input(\"enter the name you want to delete\")\n",
    "        if name in contacts:\n",
    "            del contacts[name]\n",
    "            print(f\"the name {name} deleted succesfully !!\")\n",
    "        else:\n",
    "            print(f\"the name {name} not founde !!\")\n",
    "\n",
    "\n",
    "    elif(choice == 5): \n",
    "       count = len(contacts)\n",
    "       print(f\"the total number of contacts in contact book is :{count}\")\n",
    "\n",
    "\n",
    "    elif(choice == 6):\n",
    "       print(\"thank you... now closing the app...!!\")\n",
    "       break\n",
    "\n",
    "    else:\n",
    "       print(\"enter the  choice between 1-6\")   "
   ]
  },
  {
   "cell_type": "code",
   "execution_count": null,
   "id": "b2cee2db-6ed9-4382-8f4d-d3d42c589da7",
   "metadata": {},
   "outputs": [],
   "source": []
  }
 ],
 "metadata": {
  "kernelspec": {
   "display_name": "Python 3 (ipykernel)",
   "language": "python",
   "name": "python3"
  },
  "language_info": {
   "codemirror_mode": {
    "name": "ipython",
    "version": 3
   },
   "file_extension": ".py",
   "mimetype": "text/x-python",
   "name": "python",
   "nbconvert_exporter": "python",
   "pygments_lexer": "ipython3",
   "version": "3.12.4"
  }
 },
 "nbformat": 4,
 "nbformat_minor": 5
}
